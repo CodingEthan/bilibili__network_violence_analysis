{
 "cells": [
  {
   "cell_type": "markdown",
   "metadata": {},
   "source": [
    "# 基于Bert的微博评论情感分析"
   ]
  },
  {
   "cell_type": "code",
   "execution_count": 2,
   "metadata": {},
   "outputs": [],
   "source": [
    "# 来自https://gitee.com/chyl-100days/bert-weibo-emotional-analysis"
   ]
  },
  {
   "cell_type": "markdown",
   "metadata": {},
   "source": [
    "## 获取工作路径"
   ]
  },
  {
   "cell_type": "code",
   "execution_count": null,
   "metadata": {},
   "outputs": [],
   "source": [
    "import os\n",
    "print(os.getcwd())"
   ]
  },
  {
   "cell_type": "markdown",
   "metadata": {},
   "source": [
    "## 测试模型"
   ]
  },
  {
   "cell_type": "code",
   "execution_count": null,
   "metadata": {},
   "outputs": [],
   "source": [
    "import time\n",
    "import train\n",
    "import bert_model\n",
    "import torch\n",
    "import numpy as np\n",
    "import dataloader\n",
    "import config\n",
    "import train\n",
    "\n",
    "if __name__ == '__main__':\n",
    "    config_inf = config.Config()\n",
    "    np.random.seed(1)\n",
    "    torch.manual_seed(1)\n",
    "    torch.cuda.manual_seed_all(1)\n",
    "    torch.backends.cudnn.deterministic = True  # 保证每次结果一样\n",
    "\n",
    "    start_time = time.time()\n",
    "    print(\"Loading data...\")\n",
    "    train_data_loader, dev_data_loader, test_data_loader = dataloader.get_data_loader()\n",
    "    print(\"Time usage:\", time.time() - start_time)\n",
    "\n",
    "    # train\n",
    "    model = bert_model.Model(config_inf.bert_path, config_inf.hidden_size, config_inf.num_classes).to(config_inf.device)\n",
    "    # train.train(model, train_data_loader, dev_data_loader, test_data_loader)\n",
    "    train.test(model, test_data_loader, \"./saved/1669439524.ckpt\")"
   ]
  },
  {
   "cell_type": "code",
   "execution_count": null,
   "metadata": {},
   "outputs": [],
   "source": [
    "p = 0\n",
    "for i,j in test_data_loader:\n",
    "   outputs = model(i) \n",
    "   predic = torch.max(outputs.data, 1)[1].cpu().numpy()\n",
    "   labels = j.data.cpu().numpy()[:,1]\n",
    "   print(predic)\n",
    "   print(labels)\n",
    "   p+=1\n",
    "   if p>0:\n",
    "        break\n"
   ]
  },
  {
   "cell_type": "code",
   "execution_count": null,
   "metadata": {},
   "outputs": [],
   "source": [
    "for i in range(len(predic)):\n",
    "    if predic[i] != labels[i]:\n",
    "        print(predic[i], labels[i])\n",
    "    else:\n",
    "        print(\"right\")"
   ]
  },
  {
   "cell_type": "markdown",
   "metadata": {},
   "source": [
    "## 读取文件"
   ]
  },
  {
   "cell_type": "code",
   "execution_count": null,
   "metadata": {},
   "outputs": [],
   "source": [
    "# 读取csv文件\n",
    "\n",
    "import pandas as pd\n",
    "import csv\n",
    "\n",
    "# 读取csv文件\n",
    "with open(r\"D:\\毕业论文\\bilibili_data\\bilibili_data\\data\\results\\merged_data_with_time_all_sorted_like_100.csv\", 'r') as file:\n",
    "    reader = csv.DictReader(file)\n",
    "    with open(r'./dataset/application.txt', 'w') as file:\n",
    "        # 写入txt文件\n",
    "        for row in reader:\n",
    "            file.write(row['content'] + '\\t'+ '-1')\n",
    "            file.write('\\n')"
   ]
  },
  {
   "cell_type": "markdown",
   "metadata": {},
   "source": [
    "## 建立数据集类"
   ]
  },
  {
   "cell_type": "code",
   "execution_count": null,
   "metadata": {},
   "outputs": [],
   "source": [
    "import time\n",
    "import train\n",
    "import bert_model\n",
    "import torch\n",
    "import numpy as np\n",
    "import dataloader\n",
    "import config\n",
    "import train\n",
    "\n",
    "if __name__ == '__main__':\n",
    "    config_inf = config.Config()\n",
    "    np.random.seed(1)\n",
    "    torch.manual_seed(1)\n",
    "    torch.backends.cudnn.deterministic = True  # 保证每次结果一样\n",
    "\n",
    "    start_time = time.time()\n",
    "    print(\"Loading data...\")\n",
    "    dataloader_application = dataloader.create_dataloader()\n",
    "    print(\"Time usage:\", time.time() - start_time)\n",
    "    # model = bert_model.Model(config_inf.bert_path, config_inf.hidden_size, config_inf.num_classes).to(torch.device('cpu'))\n",
    "    # # train.train(model, train_data_loader, dev_data_loader, test_data_loader)\n",
    "    # train.test(model, test_data_loader, \"./saved/1669439524.ckpt\")"
   ]
  },
  {
   "cell_type": "code",
   "execution_count": null,
   "metadata": {},
   "outputs": [],
   "source": [
    "model = bert_model.Model(config_inf.bert_path, config_inf.hidden_size, config_inf.num_classes).to(torch.device('cpu'))\n",
    "model.load_state_dict(torch.load(config_inf.save_path, map_location='cpu'))\n",
    "model.eval()"
   ]
  },
  {
   "cell_type": "markdown",
   "metadata": {},
   "source": [
    "### 标签预测"
   ]
  },
  {
   "cell_type": "code",
   "execution_count": null,
   "metadata": {},
   "outputs": [],
   "source": [
    "p = 0\n",
    "for i,j in dataloader_application:\n",
    "   outputs = model(i) \n",
    "   predic = torch.max(outputs.data, 1)[1].cpu().numpy()\n",
    "   labels = j.data.cpu().numpy()[:,1]\n",
    "   print(predic)\n",
    "   print(labels)"
   ]
  }
 ],
 "metadata": {
  "kernelspec": {
   "display_name": "pytorch",
   "language": "python",
   "name": "python3"
  },
  "language_info": {
   "codemirror_mode": {
    "name": "ipython",
    "version": 3
   },
   "file_extension": ".py",
   "mimetype": "text/x-python",
   "name": "python",
   "nbconvert_exporter": "python",
   "pygments_lexer": "ipython3",
   "version": "3.11.5"
  }
 },
 "nbformat": 4,
 "nbformat_minor": 2
}
